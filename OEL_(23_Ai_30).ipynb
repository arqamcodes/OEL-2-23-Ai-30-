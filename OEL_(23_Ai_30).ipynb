{
  "nbformat": 4,
  "nbformat_minor": 0,
  "metadata": {
    "colab": {
      "provenance": []
    },
    "kernelspec": {
      "name": "python3",
      "display_name": "Python 3"
    },
    "language_info": {
      "name": "python"
    }
  },
  "cells": [
    {
      "cell_type": "code",
      "execution_count": 11,
      "metadata": {
        "colab": {
          "base_uri": "https://localhost:8080/"
        },
        "id": "8W3mcJSey4-Q",
        "outputId": "a1d03212-5039-4417-9ab0-2c0cf4ab2976"
      },
      "outputs": [
        {
          "output_type": "stream",
          "name": "stdout",
          "text": [
            "7\n",
            "5\n",
            "1\n",
            "2\n"
          ]
        }
      ],
      "source": [
        "def length_of_palindrome(s):\n",
        "  # Initialize a dictionary\n",
        "    char_counts = {}\n",
        "    # Loopin the input string\n",
        "    for char in s:\n",
        "        char_counts[char] = char_counts.get(char, 0) + 1\n",
        "\n",
        " # Initialize the length to 0\n",
        "    length = 0\n",
        "\n",
        "    # Loop through the counts\n",
        "    for count in char_counts.values():\n",
        "        length += count // 2 * 2\n",
        "        if length % 2 == 0 and count % 2 == 1:\n",
        "            length += 1\n",
        "\n",
        "    return length\n",
        "\n",
        "# Cases\n",
        "print(length_of_palindrome(\"abccccdd\"))\n",
        "print(length_of_palindrome(\"civic\"))\n",
        "print(length_of_palindrome(\"Aa\"))\n",
        "print(length_of_palindrome(\"aa\"))\n",
        "\n",
        "\n",
        "\n"
      ]
    }
  ]
}